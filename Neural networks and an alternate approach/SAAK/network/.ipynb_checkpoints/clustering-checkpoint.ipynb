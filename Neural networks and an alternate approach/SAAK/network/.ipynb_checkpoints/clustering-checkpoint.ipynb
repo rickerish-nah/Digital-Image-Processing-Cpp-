{
 "cells": [
  {
   "cell_type": "code",
   "execution_count": 104,
   "metadata": {},
   "outputs": [],
   "source": [
    "from __future__ import print_function\n",
    "\n",
    "import time\n",
    "import sys\n",
    "import os\n",
    "\n",
    "import numpy as np\n",
    "import matplotlib.pyplot as plt\n",
    "\n",
    "from sklearn.cluster import KMeans\n",
    "from sklearn.cluster import MeanShift\n",
    "\n",
    "class LayerKmeans(object):\n",
    "\n",
    "    def __init__(self, kernel_size=2, n_clusters=5):\n",
    "        self.ks = kernel_size\n",
    "        self.nc = n_clusters\n",
    "        self.ready = False\n",
    "    \n",
    "    def train(self, images):\n",
    "\n",
    "        def cluster(images):\n",
    "            patches = _gather_patches(images, self.ks)\n",
    "            kmeans = KMeans(n_clusters=self.nc)\n",
    "            kmeans.fit(patches)\n",
    "            return kmeans, patches\n",
    "\n",
    "        time_start = time.clock()\n",
    "        kmeans_L1, patches_L1 = cluster(images)\n",
    "        print('kmeans on L1 clustering cost: %.3f sec' % \n",
    "                (time.clock() - time_start, ))\n",
    "\n",
    "        images_ds = _downsample(images, self.ks)\n",
    "        print('down sample shape: ' + str(images_ds.shape))\n",
    "\n",
    "        time_start = time.clock()\n",
    "        kmeans_L2, patches_L2 = cluster(images_ds)\n",
    "        print('kmeans on L2 clustering cost: %.3f sec' % \n",
    "                (time.clock() - time_start, ))\n",
    "        \n",
    "        self.kmeans = [kmeans_L1, kmeans_L2]\n",
    "        \n",
    "        return\n",
    "\n",
    "        label_L2 = np.expand_dims(kmeans_L2.labels_, axis=1)\n",
    "        label_L2 = np.tile(label_L2, [1,ks*ks])\n",
    "        label_L2 = np.reshape(label_L2, [-1])\n",
    "\n",
    "        Saak = [[None] * self.nc for i in range(self.nc)]\n",
    "\n",
    "        for i in range(self.nc):\n",
    "            for j in range(self.nc):\n",
    "                ind = np.logical_and(kmeans_L1.labels_ == i,\n",
    "                        label_L2 == j)\n",
    "                patches = patches_L1[ind,:]\n",
    "                Saak[i][j] = SaakStage(patches, self.ks)\n",
    "\n",
    "        print('kmeans done!')\n",
    "\n",
    "    def test_patches(self, patches, layer):\n",
    "        # assert self.ready\n",
    "        assert layer == 1 or layer == 2\n",
    "        return self.kmeans[layer - 1].predict(patches)\n",
    "\n",
    "    def test_images(self, images):\n",
    "        # get images shape\n",
    "        n, h, w, ch = images.shape\n",
    "        ks = self.ks\n",
    "        nc = self.nc\n",
    "\n",
    "        # get downsampled images\n",
    "        images_ds = _downsample(images, ks)\n",
    "        # n_ds, h_ds, w_ds, ch_ds = images_ds.shape\n",
    "        \n",
    "        # get L2\n",
    "        patches_L2 = _gather_patches(images_ds, ks)\n",
    "        # indices_L2 = np.arange(len(patches_L2))\n",
    "        label_L2 = self.test_patches(patches_L2, layer=2)\n",
    "        label_L2_up = np.expand_dims(label_L2, axis=1)\n",
    "        label_L2_up = np.tile(label_L2, [1, ks*ks])\n",
    "        # np.save('p1_3.npy', label_L2_up)\n",
    "        label_L2_up = np.reshape(label_L2_up, [-1])\n",
    "        # label_L2_reshaped = _reshape_patches(label_L2, h, w, ch)\n",
    "        print('label L2 shape: ' + str(label_L2.shape))\n",
    "        print('label L2 up shape: ' + str(label_L2_up.shape))\n",
    "\n",
    "        # get L1\n",
    "        patches_L1 = _gather_patches(images, ks)\n",
    "        # indices_L1 = np.arange(len(patches_L1))\n",
    "        label_L1 = self.test_patches(patches_L1, layer=1)\n",
    "        print('label L1 shape: ' + str(label_L1.shape))\n",
    "\n",
    "\n",
    "        # np.save('p2.npy', label_L1)\n",
    "\n",
    "        # np.save('p1.npy', label_L2_up)\n",
    "        # np.save('p1_2.npy', label_L2)\n",
    "\n",
    "        result = patches\n",
    "        for i in range(nc):\n",
    "            for j in range(nc):\n",
    "                ind = np.logical_and(label_L1 == i, label_L2_up == j)\n",
    "                patches = patches_L1[ind,:]\n",
    "                print('L1 = %d L2 = %d: %d' \n",
    "                        % (i, j, len(patches)))\n",
    "                # indices = indices_L1[ind]\n",
    "\n",
    "class LayerMeanShift(object):\n",
    "    \n",
    "    def __init__(self, kernel_size=2):\n",
    "        self.ks = kernel_size\n",
    "    \n",
    "    def train(self, images):\n",
    "        n, h, w, ch = images.shape\n",
    "        ks = self.ks\n",
    "        \n",
    "        def cluster(images):\n",
    "            patches = _gather_patches(images, ks)\n",
    "            ms = MeanShift(bin_seeding=True, cluster_all=False, n_jobs=4)\n",
    "            ms.fit(patches)\n",
    "            return ms, patches\n",
    "\n",
    "        time_start = time.clock()\n",
    "        ms_L1, patches_L1 = cluster(images)\n",
    "        print('mean shift on L1 clustering cost: %.3f sec' % \n",
    "                (time.clock() - time_start, ))\n",
    "\n",
    "        images_ds = _downsample(images, self.ks)\n",
    "        print('down sample shape: ' + str(images_ds.shape))\n",
    "\n",
    "        time_start = time.clock()\n",
    "        ms_L2, patches_L2 = cluster(images_ds)\n",
    "        print('mean shift on L2 clustering cost: %.3f sec' % \n",
    "                (time.clock() - time_start, ))\n",
    "        \n",
    "        self.ms = [ms_L1, ms_L2]\n",
    "        self.patches = [patches_L1, patches_L2]\n",
    "        \n",
    "        return\n",
    "        \n",
    "\n",
    "def _gather_patches(images, ks):\n",
    "    n, h, w, ch = images.shape\n",
    "    p = np.array(\n",
    "            [np.reshape(images[:,i:i+ks,j:j+ks,:],[-1,ks*ks*ch])\n",
    "                for i in range(0, h, ks)\n",
    "                for j in range(0, w, ks)\n",
    "                ]\n",
    "            )\n",
    "    print('patch shape: ' + str(p.shape))\n",
    "\n",
    "    p = p.transpose([1,0,2])\n",
    "    print('patch shape: ' + str(p.shape))\n",
    "\n",
    "    p = np.reshape(p, [-1,ks*ks*ch])\n",
    "    print('patch shape: ' + str(p.shape))\n",
    "\n",
    "    return p\n",
    "\n",
    "\n",
    "def _reshape_patches(patches, h, w, ch):\n",
    "    images = np.reshape(patches, [-1, h, w, ch])\n",
    "    return images\n",
    "\n",
    "def _downsample(images, scale):\n",
    "    n, h, w, ch = images.shape\n",
    "    patches = _gather_patches(images, ks=scale)\n",
    "    k = len(patches)\n",
    "    patches = np.reshape(patches, [k, -1, ch])\n",
    "    patches = np.mean(patches, axis=1)\n",
    "    images_ds = _reshape_patches(patches, h / scale, w / scale, ch)\n",
    "    return images_ds\n",
    "\n",
    "\n",
    "a = '''\n",
    "if __name__ == '__main__':\n",
    "    lk = LayerKmeans()\n",
    "\n",
    "    images = np.load('../images_voc12_train_32x32_lab.npy')\n",
    "    images = images / 255.\n",
    "    L = np.expand_dims(images[:,:,:,0], axis=3)\n",
    "    A = np.expand_dims(images[:,:,:,1], axis=3)\n",
    "    B = np.expand_dims(images[:,:,:,2], axis=3)\n",
    "\n",
    "    # lk.train(L)\n",
    "    # lk.test_images(L)\n",
    "'''"
   ]
  },
  {
   "cell_type": "code",
   "execution_count": 105,
   "metadata": {},
   "outputs": [],
   "source": [
    "images = np.load('../images_voc12_train_32x32_lab.npy')\n",
    "images = images / 255.\n",
    "\n",
    "L = np.expand_dims(images[:,:,:,0], axis=3)\n",
    "A = np.expand_dims(images[:,:,:,1], axis=3)\n",
    "B = np.expand_dims(images[:,:,:,2], axis=3)"
   ]
  },
  {
   "cell_type": "code",
   "execution_count": 10,
   "metadata": {},
   "outputs": [
    {
     "data": {
      "text/plain": [
       "array([[ 0.76862745,  0.79215686,  0.81960784, ...,  0.92941176,\n",
       "         0.91764706,  0.90196078],\n",
       "       [ 0.78039216,  0.80784314,  0.83137255, ...,  0.93333333,\n",
       "         0.92156863,  0.90980392],\n",
       "       [ 0.78823529,  0.81176471,  0.83529412, ...,  0.94117647,\n",
       "         0.9254902 ,  0.91372549],\n",
       "       ..., \n",
       "       [ 0.38039216,  0.16470588,  0.20784314, ...,  0.25882353,\n",
       "         0.3372549 ,  0.45490196],\n",
       "       [ 0.11372549,  0.10588235,  0.2       , ...,  0.21568627,\n",
       "         0.20784314,  0.20392157],\n",
       "       [ 0.04313725,  0.05490196,  0.07058824, ...,  0.19607843,\n",
       "         0.17254902,  0.14117647]])"
      ]
     },
     "execution_count": 10,
     "metadata": {},
     "output_type": "execute_result"
    }
   ],
   "source": [
    "images[0,:,:,0]"
   ]
  },
  {
   "cell_type": "code",
   "execution_count": 117,
   "metadata": {},
   "outputs": [
    {
     "data": {
      "image/png": "[encoded data removed]",
      "text/plain": [
       "<matplotlib.figure.Figure at 0x7fbbf63e9250>"
      ]
     },
     "metadata": {},
     "output_type": "display_data"
    },
    {
     "data": {
      "image/png": "[encoded data removed]",
      "text/plain": [
       "<matplotlib.figure.Figure at 0x7fbbf9e64bd0>"
      ]
     },
     "metadata": {},
     "output_type": "display_data"
    },
    {
     "data": {
      "image/png": "[encoded data removed]",
      "text/plain": [
       "<matplotlib.figure.Figure at 0x7fbbf9c4de10>"
      ]
     },
     "metadata": {},
     "output_type": "display_data"
    }
   ],
   "source": [
    "plt.close('all')\n",
    "plt.figure(1)\n",
    "plt.subplot(221)\n",
    "plt.hist(np.reshape(msl.patches[0][:,0], [-1]), bins=127, normed=True)\n",
    "plt.title('top left')\n",
    "\n",
    "plt.subplot(222)\n",
    "plt.hist(np.reshape(msl.patches[0][:,1], [-1]), bins=127, normed=True)\n",
    "plt.title('top right')\n",
    "\n",
    "plt.subplot(223)\n",
    "plt.hist(np.reshape(msl.patches[0][:,2], [-1]), bins=127, normed=True)\n",
    "plt.title('bottom left')\n",
    "\n",
    "plt.subplot(224)\n",
    "plt.hist(np.reshape(msl.patches[0][:,3], [-1]), bins=127, normed=True)\n",
    "plt.title('bottom right')\n",
    "\n",
    "plt.tight_layout(pad=0.4, w_pad=0.5, h_pad=1.0)\n",
    "\n",
    "plt.show()\n",
    "\n",
    "plt.figure(2)\n",
    "plt.hist(np.reshape(L, [-1]), bins=127, normed=True)\n",
    "plt.title('all')\n",
    "plt.show()\n",
    "\n",
    "plt.figure(3, figsize=(12,1))\n",
    "plt.subplot(131)\n",
    "plt.hist(np.reshape(L, [-1]), bins=127, normed=True)\n",
    "plt.title('L')\n",
    "\n",
    "plt.subplot(132)\n",
    "plt.hist(np.reshape(A, [-1]), bins=127, normed=True)\n",
    "plt.title('A')\n",
    "\n",
    "plt.subplot(133)\n",
    "plt.hist(np.reshape(B, [-1]), bins=100, normed=True)\n",
    "plt.title('B')\n",
    "\n",
    "plt.tight_layout(pad=0.4, w_pad=0.5, h_pad=1.0)\n",
    "\n",
    "plt.show()"
   ]
  },
  {
   "cell_type": "code",
   "execution_count": 49,
   "metadata": {},
   "outputs": [
    {
     "data": {
      "text/plain": [
       "'2.0.2'"
      ]
     },
     "execution_count": 49,
     "metadata": {},
     "output_type": "execute_result"
    }
   ],
   "source": [
    "import matplotlib as m\n",
    "m.__version__"
   ]
  },
  {
   "cell_type": "code",
   "execution_count": 106,
   "metadata": {},
   "outputs": [
    {
     "name": "stdout",
     "output_type": "stream",
     "text": [
      "patch shape: (256, 100, 4)\n",
      "patch shape: (100, 256, 4)\n",
      "patch shape: (25600, 4)\n",
      "mean shift on L1 clustering cost: 44.164 sec\n",
      "patch shape: (256, 100, 4)\n",
      "patch shape: (100, 256, 4)\n",
      "patch shape: (25600, 4)\n",
      "down sample shape: (100, 16, 16, 1)\n",
      "patch shape: (64, 100, 4)\n",
      "patch shape: (100, 64, 4)\n",
      "patch shape: (6400, 4)\n",
      "mean shift on L2 clustering cost: 4.194 sec\n"
     ]
    }
   ],
   "source": [
    "msl = LayerMeanShift()\n",
    "msl.train(L[:100,:,:,:])"
   ]
  },
  {
   "cell_type": "code",
   "execution_count": 103,
   "metadata": {},
   "outputs": [
    {
     "name": "stdout",
     "output_type": "stream",
     "text": [
      "[[ 0.47631376  0.4776519   0.47523741  0.47549796]]\n",
      "[[ 0.46261822  0.46226177  0.46067326  0.46207996]]\n"
     ]
    }
   ],
   "source": [
    "print(msl.ms[0].cluster_centers_)\n",
    "print(msl.ms[1].cluster_centers_)"
   ]
  }
 ],
 "metadata": {
  "kernelspec": {
   "display_name": "Python 2",
   "language": "python",
   "name": "python2"
  },
  "language_info": {
   "codemirror_mode": {
    "name": "ipython",
    "version": 2
   },
   "file_extension": ".py",
   "mimetype": "text/x-python",
   "name": "python",
   "nbconvert_exporter": "python",
   "pygments_lexer": "ipython2",
   "version": "2.7.12"
  }
 },
 "nbformat": 4,
 "nbformat_minor": 2
}
