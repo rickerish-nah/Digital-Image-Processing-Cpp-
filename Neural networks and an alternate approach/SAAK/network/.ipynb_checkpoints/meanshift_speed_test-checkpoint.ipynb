{
 "cells": [
  {
   "cell_type": "code",
   "execution_count": 34,
   "metadata": {},
   "outputs": [
    {
     "data": {
      "text/plain": [
       "array([[ 2.2822271 ],\n",
       "       [ 1.07364733],\n",
       "       [ 2.34957751],\n",
       "       ...,\n",
       "       [ 0.52422028],\n",
       "       [-0.72970097],\n",
       "       [ 2.88432387]])"
      ]
     },
     "execution_count": 34,
     "metadata": {},
     "output_type": "execute_result"
    }
   ],
   "source": [
    "import numpy as np\n",
    "import time\n",
    "\n",
    "n = 10000\n",
    "m = 1\n",
    "bw = 0.3\n",
    "a = np.random.randn(n, m) + 1 # generate gaussian random samples at N(1, 1)\n",
    "a"
   ]
  },
  {
   "cell_type": "code",
   "execution_count": 45,
   "metadata": {},
   "outputs": [],
   "source": [
    "def dist(x): \n",
    "    # compute the distance using dot product\n",
    "    return np.dot(x, x)\n",
    "\n",
    "def c_next(a, c, bw = 0.04): \n",
    "    # compute the next centroid for mean shift algorithm\n",
    "    c_new = np.zeros(m)\n",
    "    n = 0\n",
    "    for x in a:\n",
    "        if dist(x - c) < bw:\n",
    "            c_new += x\n",
    "            n += 1\n",
    "    return c_new / n\n",
    "\n",
    "def mean_shift(a, seed, eps = 1e-10, alpha = 0, decay = 0.9): \n",
    "    # a is the set of data points, \n",
    "    # seed is the starting point, \n",
    "    # eps is the ending condition\n",
    "    c = seed\n",
    "    c_old = None\n",
    "    i = 0\n",
    "    # d = []\n",
    "    while c_old is None or dist(c - c_old) > eps: # while not converge\n",
    "        i += 1\n",
    "        c_old = c.copy()\n",
    "        c = c + (c_next(a, c) - c) * (alpha + 1)\n",
    "        alpha *= decay\n",
    "        # print(c)\n",
    "        # d.append(dist(c, c_old) ** 0.5)\n",
    "    return i"
   ]
  },
  {
   "cell_type": "code",
   "execution_count": 47,
   "metadata": {},
   "outputs": [
    {
     "name": "stdout",
     "output_type": "stream",
     "text": [
      "89 steps using 0.821 sec\n",
      "84 steps using 0.754 sec\n",
      "79 steps using 0.738 sec\n",
      "67 steps using 0.594 sec\n",
      "41 steps using 0.369 sec\n",
      "16 steps using 0.146 sec\n",
      "83 steps using 0.743 sec\n",
      "56 steps using 0.505 sec\n",
      "39 steps using 0.357 sec\n",
      "18 steps using 0.166 sec\n",
      "47 steps using 0.472 sec\n",
      "3 steps using 0.045 sec\n",
      "42 steps using 0.384 sec\n",
      "74 steps using 0.671 sec\n",
      "95 steps using 0.864 sec\n",
      "109 steps using 0.989 sec\n",
      "121 steps using 1.086 sec\n",
      "131 steps using 1.176 sec\n",
      "139 steps using 1.247 sec\n",
      "146 steps using 1.306 sec\n",
      "total: 13.433 sec\n"
     ]
    }
   ],
   "source": [
    "total_1 = 0\n",
    "for seed in np.arange(0, 2, 0.1):\n",
    "    t0 = time.clock()\n",
    "    d = mean_shift(a, seed)\n",
    "    total_1 += time.clock() - t0\n",
    "    print('%d steps using %.3f sec' % (d, (time.clock() - t0)))\n",
    "print('total: %.3f sec' % (total_1))"
   ]
  },
  {
   "cell_type": "code",
   "execution_count": 49,
   "metadata": {},
   "outputs": [
    {
     "name": "stdout",
     "output_type": "stream",
     "text": [
      "57 steps using 0.520 sec\n",
      "51 steps using 0.458 sec\n",
      "46 steps using 0.413 sec\n",
      "40 steps using 0.419 sec\n",
      "20 steps using 0.180 sec\n",
      "18 steps using 0.164 sec\n",
      "54 steps using 0.487 sec\n",
      "29 steps using 0.266 sec\n",
      "20 steps using 0.183 sec\n",
      "19 steps using 0.176 sec\n",
      "20 steps using 0.184 sec\n",
      "16 steps using 0.151 sec\n",
      "24 steps using 0.223 sec\n",
      "41 steps using 0.374 sec\n",
      "62 steps using 0.560 sec\n",
      "75 steps using 0.678 sec\n",
      "92 steps using 0.825 sec\n",
      "101 steps using 0.975 sec\n",
      "108 steps using 0.967 sec\n",
      "117 steps using 1.045 sec\n",
      "total: 9.248 sec\n"
     ]
    }
   ],
   "source": [
    "total_2 = 0\n",
    "for seed in np.arange(0, 2, 0.1):\n",
    "    t0 = time.clock()\n",
    "    d = mean_shift(a, seed, alpha = 4)\n",
    "    total_2 += time.clock() - t0\n",
    "    print('%d steps using %.3f sec' % (d, (time.clock() - t0)))\n",
    "print('total: %.3f sec' % (total_2))"
   ]
  },
  {
   "cell_type": "code",
   "execution_count": 20,
   "metadata": {},
   "outputs": [
    {
     "data": {
      "text/plain": [
       "1.0119972634421817"
      ]
     },
     "execution_count": 20,
     "metadata": {},
     "output_type": "execute_result"
    }
   ],
   "source": [
    "np.var(a)"
   ]
  }
 ],
 "metadata": {
  "kernelspec": {
   "display_name": "Python 2",
   "language": "python",
   "name": "python2"
  },
  "language_info": {
   "codemirror_mode": {
    "name": "ipython",
    "version": 2
   },
   "file_extension": ".py",
   "mimetype": "text/x-python",
   "name": "python",
   "nbconvert_exporter": "python",
   "pygments_lexer": "ipython2",
   "version": "2.7.12"
  }
 },
 "nbformat": 4,
 "nbformat_minor": 2
}
